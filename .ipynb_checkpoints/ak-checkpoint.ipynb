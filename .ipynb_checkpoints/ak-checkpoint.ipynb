{
 "cells": [
  {
   "cell_type": "markdown",
   "metadata": {},
   "source": [
    "# data structures\n",
    "1.strings\n",
    "2.lists\n",
    "3.tuples\n",
    "4.dictionary\n",
    "5.sets"
   ]
  },
  {
   "cell_type": "code",
   "execution_count": null,
   "metadata": {},
   "outputs": [],
   "source": [
    "n=\" \"\n",
    "print(type(n))"
   ]
  },
  {
   "cell_type": "code",
   "execution_count": null,
   "metadata": {},
   "outputs": [],
   "source": [
    "n=[ ]\n",
    "print(type(n))\n"
   ]
  },
  {
   "cell_type": "code",
   "execution_count": null,
   "metadata": {},
   "outputs": [],
   "source": [
    "n=( )\n",
    "print(type(n))"
   ]
  },
  {
   "cell_type": "code",
   "execution_count": null,
   "metadata": {},
   "outputs": [],
   "source": [
    "n={ }\n",
    "print(type(n))"
   ]
  },
  {
   "cell_type": "code",
   "execution_count": null,
   "metadata": {},
   "outputs": [],
   "source": [
    "n={( )}\n",
    "print(type(n))"
   ]
  },
  {
   "cell_type": "code",
   "execution_count": null,
   "metadata": {},
   "outputs": [],
   "source": [
    "str=\"apple\"\n",
    "print(str[1:2])\n"
   ]
  },
  {
   "cell_type": "markdown",
   "metadata": {},
   "source": [
    "# strings\n",
    "1. collection of information/data with in \" \"\n",
    "2. accessing index values\n",
    "    *. forward index(left to right from 0 to n-1)\n",
    "    *. backward index(right to left starts from -1)\n",
    "   "
   ]
  },
  {
   "cell_type": "code",
   "execution_count": null,
   "metadata": {},
   "outputs": [],
   "source": [
    "str=\"apple\"\n",
    "print(str[-1])"
   ]
  },
  {
   "cell_type": "code",
   "execution_count": null,
   "metadata": {},
   "outputs": [],
   "source": [
    "str=\"apple\"\n",
    "print(str[0:5:2])\n"
   ]
  },
  {
   "cell_type": "code",
   "execution_count": null,
   "metadata": {
    "scrolled": false
   },
   "outputs": [],
   "source": [
    "print(dir(str))"
   ]
  },
  {
   "cell_type": "code",
   "execution_count": null,
   "metadata": {},
   "outputs": [],
   "source": [
    "z=\"bigil 123 bigil 456 bigil 789\" \n",
    "print(a,c1)  \n",
    "for i in z:\n",
    "    if i.isalpha():\n",
    "        print(i,end=\"\")\n",
    "print('\\t')\n",
    "for i in z:\n",
    "    if i.isdigit():\n",
    "        print(i,end=\"\")\n"
   ]
  },
  {
   "cell_type": "code",
   "execution_count": null,
   "metadata": {},
   "outputs": [],
   "source": [
    "k=input()\n",
    "a=\" \"\n",
    "b=\" \"\n",
    "c=\" \"\n",
    "d=\" \"\n",
    "e=\" \"\n",
    "c1=0\n",
    "c2=0\n",
    "c3=0\n",
    "c4=0\n",
    "c5=0\n",
    "for i in k:\n",
    "    if i.isalpha():\n",
    "        a+=i\n",
    "        c1+=1\n",
    "        if i.isupper():\n",
    "            b+=i\n",
    "            c2+=1\n",
    "        if i.islower():\n",
    "            c+=i\n",
    "            c3+=1\n",
    "    elif i.isspace():\n",
    "        d+=i\n",
    "        c4+=1\n",
    "    elif i.isdigit():\n",
    "        e+=i\n",
    "        c5+=1\n",
    "print(a,c1)\n",
    "print(b,c2)  \n",
    "print(c,c3)  \n",
    "print(c4)  \n",
    "print(d,c5)  \n",
    "            \n",
    "        \n",
    "\n",
    "        \n"
   ]
  },
  {
   "cell_type": "code",
   "execution_count": null,
   "metadata": {},
   "outputs": [],
   "source": [
    "z=\"bigil 123 bigil 456 bigil 789\"  \n",
    "for i in z:\n",
    "    if i.isalpha():\n",
    "        print(i,end=\"\")\n",
    "print('\\t')\n",
    "for i in z:\n",
    "    if i.isdigit():\n",
    "        print(i,end=\"\")"
   ]
  },
  {
   "cell_type": "code",
   "execution_count": null,
   "metadata": {},
   "outputs": [],
   "source": [
    "x=\"python\\tprogramming\"\n",
    "x.expandtabs(20)"
   ]
  },
  {
   "cell_type": "code",
   "execution_count": null,
   "metadata": {},
   "outputs": [],
   "source": [
    "x.zfill(25)"
   ]
  },
  {
   "cell_type": "code",
   "execution_count": null,
   "metadata": {},
   "outputs": [],
   "source": [
    "n=int(input())\n",
    "for i in range(1,11):\n",
    "    print(\"{} {} {} {} {}\".format(n,'x',i,'=',n*i))\n",
    "    "
   ]
  },
  {
   "cell_type": "code",
   "execution_count": null,
   "metadata": {},
   "outputs": [],
   "source": [
    "n=\"apple\"\n",
    "print(\"{}\".format(n))"
   ]
  },
  {
   "cell_type": "code",
   "execution_count": null,
   "metadata": {},
   "outputs": [],
   "source": [
    "s=\"aaabaa\"\n",
    "s.index('b')"
   ]
  },
  {
   "cell_type": "code",
   "execution_count": null,
   "metadata": {},
   "outputs": [],
   "source": [
    "s=\"g68450\"\n",
    "'bigilu'.join(s)"
   ]
  },
  {
   "cell_type": "code",
   "execution_count": null,
   "metadata": {},
   "outputs": [],
   "source": [
    "s=\"bigil\"\n",
    "s.split('i')"
   ]
  },
  {
   "cell_type": "code",
   "execution_count": null,
   "metadata": {},
   "outputs": [],
   "source": [
    "s=\"bigiluuu \"\n",
    "s.replace(' ',\"cup mukyam\")"
   ]
  },
  {
   "cell_type": "code",
   "execution_count": null,
   "metadata": {},
   "outputs": [],
   "source": [
    "s=\"apssdc PYTHON proGrAMmiNG vignans lara\"\n",
    "n=s.split()\n",
    "print(n[0].capitalize(),n[1].lower(),n[2].swapcase(),n[3],n[4].upper())\n"
   ]
  },
  {
   "cell_type": "code",
   "execution_count": null,
   "metadata": {},
   "outputs": [],
   "source": [
    "s=\"sunkara anil\"\n",
    "print(s[0],'.',s[8:12],sep=\"\")"
   ]
  },
  {
   "cell_type": "code",
   "execution_count": null,
   "metadata": {},
   "outputs": [],
   "source": [
    "s=input()\n",
    "s1=s.split()\n",
    "print(s1[0][0],\".\",s1[1],sep=\"\")"
   ]
  },
  {
   "cell_type": "code",
   "execution_count": null,
   "metadata": {},
   "outputs": [],
   "source": [
    "l=[1,2,3,4]\n",
    "l.append([5,6])\n",
    "print(l)"
   ]
  },
  {
   "cell_type": "code",
   "execution_count": null,
   "metadata": {},
   "outputs": [],
   "source": [
    "l=[1,2,3,4]\n",
    "l.extend([5,6,7])\n",
    "print(l)"
   ]
  },
  {
   "cell_type": "code",
   "execution_count": null,
   "metadata": {},
   "outputs": [],
   "source": [
    "l=[1,2,3,4]\n",
    "l.append(6)\n",
    "print(l)"
   ]
  },
  {
   "cell_type": "code",
   "execution_count": null,
   "metadata": {},
   "outputs": [],
   "source": [
    "l=[1,2,3,4]\n",
    "l.pop()\n",
    "print(l)"
   ]
  },
  {
   "cell_type": "code",
   "execution_count": null,
   "metadata": {},
   "outputs": [],
   "source": [
    "l=[1,2,3,4]\n",
    "l.pop(2)\n",
    "print(l)"
   ]
  },
  {
   "cell_type": "code",
   "execution_count": null,
   "metadata": {},
   "outputs": [],
   "source": [
    "l=[1,2,3,4]\n",
    "l.remove(3)\n",
    "print(l)"
   ]
  },
  {
   "cell_type": "code",
   "execution_count": null,
   "metadata": {},
   "outputs": [],
   "source": [
    "l=[]\n",
    "for i in range(1,11):\n",
    "    l.append(i)\n",
    "print(l)"
   ]
  },
  {
   "cell_type": "code",
   "execution_count": null,
   "metadata": {},
   "outputs": [],
   "source": [
    "l=[]\n",
    "for i in range(1,11):\n",
    "    l.append(i)\n",
    "print(l)"
   ]
  },
  {
   "cell_type": "code",
   "execution_count": null,
   "metadata": {},
   "outputs": [],
   "source": [
    "l=[]\n",
    "for i in range(1,2021):\n",
    "    if (i%4==0and i%100!=0 or i%400==0):\n",
    "        l.append(i)\n",
    "print(l)"
   ]
  },
  {
   "cell_type": "code",
   "execution_count": null,
   "metadata": {},
   "outputs": [],
   "source": [
    "l=[]\n",
    "for i in range(1,100):\n",
    "    if(i%2==0):\n",
    "        l.append(i)\n",
    "print(l)"
   ]
  },
  {
   "cell_type": "code",
   "execution_count": null,
   "metadata": {},
   "outputs": [],
   "source": [
    "l=[]\n",
    "for i in range(ord('A'),ord('Z')):\n",
    "     l.append(i)\n",
    "print(l)\n",
    "    "
   ]
  },
  {
   "cell_type": "code",
   "execution_count": null,
   "metadata": {},
   "outputs": [],
   "source": [
    "l=[]\n",
    "for i in range(ord('A'),ord('Z')):\n",
    "    if i%2==0:\n",
    "        l.append(i)\n",
    "print(l)\n",
    "    "
   ]
  },
  {
   "cell_type": "code",
   "execution_count": null,
   "metadata": {},
   "outputs": [],
   "source": [
    "l=[]\n",
    "for i in range(65,91):\n",
    "     l.append(chr(i))\n",
    "print(l)\n",
    "    "
   ]
  },
  {
   "cell_type": "code",
   "execution_count": null,
   "metadata": {},
   "outputs": [],
   "source": [
    "l=[]\n",
    "for i in range(65,91):\n",
    "    if(i%2==0):\n",
    "        l.append(chr(i))\n",
    "print(l)\n",
    "    "
   ]
  },
  {
   "cell_type": "code",
   "execution_count": null,
   "metadata": {},
   "outputs": [],
   "source": [
    "print(dir(tuple))"
   ]
  },
  {
   "cell_type": "code",
   "execution_count": null,
   "metadata": {},
   "outputs": [],
   "source": [
    "l=[1,2,3,4,5,6]\n",
    "l1=list(map(str,l))\n",
    "print(l1)"
   ]
  },
  {
   "cell_type": "code",
   "execution_count": null,
   "metadata": {},
   "outputs": [],
   "source": [
    "l=[1,2,3,4,5,6]\n",
    "l1=list(map(float,l))\n",
    "print(l1)"
   ]
  },
  {
   "cell_type": "code",
   "execution_count": null,
   "metadata": {},
   "outputs": [],
   "source": [
    "t=(2,2,4,5,8,6,4,9,1)\n",
    "l=list(map(str,t))\n",
    "print(l)\n"
   ]
  },
  {
   "cell_type": "code",
   "execution_count": null,
   "metadata": {},
   "outputs": [],
   "source": [
    "t=[2,2,4,5,8,6,4,9,1]\n",
    "l=tuple(map(str,t))\n",
    "print(l)\n"
   ]
  },
  {
   "cell_type": "code",
   "execution_count": null,
   "metadata": {},
   "outputs": [],
   "source": [
    "l=[1,2,3,4,5]\n",
    "l1=list(map(lambda l:l*l,l))\n",
    "print(tuple(l1))\n",
    "l2=l1.index(max(l1))\n",
    "l3=l1.index(min(l1))\n",
    "print(l2)\n",
    "print(l3)\n"
   ]
  },
  {
   "cell_type": "code",
   "execution_count": null,
   "metadata": {},
   "outputs": [],
   "source": [
    "print(dir(dict))"
   ]
  },
  {
   "cell_type": "code",
   "execution_count": null,
   "metadata": {},
   "outputs": [],
   "source": [
    "from random import randint\n",
    "def marksgen(n,lb,ub):\n",
    "    with open(\"datafiles/marks.txt\",'w')as f:\n",
    "        for i in range(0,n):\n",
    "            r=randint(lb,ub)\n",
    "            f.write(str(r)+'\\n')\n",
    "        return\n",
    "n=int(input(\"enter the count: \"))\n",
    "lb=int(input(\"enter lower range: \"))\n",
    "ub=int(input(\"enter upper range: \"))\n",
    "marksgen(n,lb,ub)"
   ]
  },
  {
   "cell_type": "code",
   "execution_count": null,
   "metadata": {},
   "outputs": [],
   "source": [
    "with open(\"datafiles/marks.txt\")as f:\n",
    "    data=f.read()\n",
    "    marks=data.split()\n",
    "    sum=0\n",
    "    for mark in marks:\n",
    "        sum+=int(mark)\n",
    "    print(sum/len(marks))"
   ]
  },
  {
   "cell_type": "code",
   "execution_count": null,
   "metadata": {},
   "outputs": [],
   "source": [
    "with open(\"datafiles/marks.txt\")as f:\n",
    "    data=f.read()\n",
    "    marks=data.split()\n",
    "    pc=0\n",
    "    for mark in marks:\n",
    "        if int(mark)>=35:\n",
    "            pc+=1\n",
    "    print(pc/len(marks)*100)"
   ]
  },
  {
   "cell_type": "code",
   "execution_count": null,
   "metadata": {},
   "outputs": [],
   "source": [
    "with open(\"datafiles/marks.txt\")as f:\n",
    "    data=f.read()\n",
    "    marks=data.split()\n",
    "    pc=0\n",
    "    for mark in marks:\n",
    "        if int(mark)<35:\n",
    "            pc+=1\n",
    "    print(pc/len(marks)*100)"
   ]
  },
  {
   "cell_type": "code",
   "execution_count": null,
   "metadata": {},
   "outputs": [],
   "source": [
    "with open(\"datafiles/marks.txt\")as f:\n",
    "    data=f.read()\n",
    "    marks=data.split()\n",
    "    count=0\n",
    "    for mark in marks:\n",
    "        if int(mark)>=80:\n",
    "            count+=1\n",
    "    print(count/len(marks)*100)"
   ]
  },
  {
   "cell_type": "code",
   "execution_count": null,
   "metadata": {},
   "outputs": [],
   "source": [
    "with open(\"datafiles/marks.txt\")as f:\n",
    "    data=f.read()\n",
    "    marks=data.split()\n",
    "    print(marks.count(min(marks)))\n",
    "    print(min(marks))\n",
    "    print(marks.count(max(marks)))\n",
    "    print(max(marks))"
   ]
  },
  {
   "cell_type": "code",
   "execution_count": null,
   "metadata": {},
   "outputs": [],
   "source": [
    "def varlen(num,*args):\n",
    "    num=10\n",
    "    print(num)\n",
    "    for a in args:\n",
    "        print(a)\n",
    "varlen(10,'python','online','program',20,89.5)"
   ]
  },
  {
   "cell_type": "code",
   "execution_count": null,
   "metadata": {},
   "outputs": [],
   "source": [
    "d={\"name\":\"bigilu\",\"rno\":'g68'}\n",
    "d.keys()"
   ]
  },
  {
   "cell_type": "code",
   "execution_count": null,
   "metadata": {},
   "outputs": [],
   "source": [
    "d={\"name\":\"bigilu\",\"rno\":'g6'}\n",
    "d.get('name')"
   ]
  },
  {
   "cell_type": "code",
   "execution_count": null,
   "metadata": {},
   "outputs": [],
   "source": [
    "d.items()"
   ]
  },
  {
   "cell_type": "code",
   "execution_count": null,
   "metadata": {},
   "outputs": [],
   "source": [
    "p={\"name\":\"bigilu\",\"rno\":'g6'}\n",
    "p.pop('name')"
   ]
  },
  {
   "cell_type": "code",
   "execution_count": null,
   "metadata": {},
   "outputs": [],
   "source": [
    "p"
   ]
  },
  {
   "cell_type": "code",
   "execution_count": null,
   "metadata": {},
   "outputs": [],
   "source": [
    "p1={\"name 1\":\"karuvu srinivas\"}\n",
    "p.update(p1)"
   ]
  },
  {
   "cell_type": "code",
   "execution_count": null,
   "metadata": {},
   "outputs": [],
   "source": [
    "p"
   ]
  },
  {
   "cell_type": "code",
   "execution_count": null,
   "metadata": {},
   "outputs": [],
   "source": [
    "t=('key','key2')\n",
    "p=dict.fromkeys(t,10)\n",
    "p"
   ]
  },
  {
   "cell_type": "code",
   "execution_count": null,
   "metadata": {},
   "outputs": [],
   "source": [
    "print(dir(set))"
   ]
  },
  {
   "cell_type": "code",
   "execution_count": null,
   "metadata": {},
   "outputs": [],
   "source": [
    "k={1,2,3,4}\n",
    "k.add('a')\n",
    "k"
   ]
  },
  {
   "cell_type": "code",
   "execution_count": null,
   "metadata": {},
   "outputs": [],
   "source": [
    "k={1,2,3,4}\n",
    "k.update({5,6,'s','a',80.9})\n",
    "k"
   ]
  },
  {
   "cell_type": "code",
   "execution_count": null,
   "metadata": {},
   "outputs": [],
   "source": [
    "k.remove('a')\n",
    "k"
   ]
  },
  {
   "cell_type": "code",
   "execution_count": null,
   "metadata": {},
   "outputs": [],
   "source": [
    "k.discard('z')\n",
    "k"
   ]
  },
  {
   "cell_type": "code",
   "execution_count": null,
   "metadata": {},
   "outputs": [],
   "source": [
    "p={1,2,3,4,5}\n",
    "s={9,8,7,6,0}\n",
    "a=p.difference(s)\n",
    "b=s.difference(p)\n",
    "print(a)\n",
    "print(b)"
   ]
  },
  {
   "cell_type": "code",
   "execution_count": null,
   "metadata": {},
   "outputs": [],
   "source": [
    "p={1,2,3,7,8,4,5}\n",
    "s={9,8,7,2,4,6,0}\n",
    "a=p.difference(s)\n",
    "b=s.difference(p)\n",
    "print(a)\n",
    "print(b)"
   ]
  },
  {
   "cell_type": "code",
   "execution_count": null,
   "metadata": {},
   "outputs": [],
   "source": [
    "p={1,2,3,7,8,4,5}\n",
    "s={9,8,7,2,4,6,0}\n",
    "p.intersection(s)"
   ]
  },
  {
   "cell_type": "code",
   "execution_count": null,
   "metadata": {},
   "outputs": [],
   "source": [
    "p={1,2,3,7,8,4,5}\n",
    "s={9,8,7,2,4,6,0}\n",
    "p.intersection_update(s)\n",
    "p"
   ]
  },
  {
   "cell_type": "code",
   "execution_count": null,
   "metadata": {},
   "outputs": [],
   "source": [
    "p={1,2,3,7,8,4,5}\n",
    "s={9,8,7,2,4,6,0}\n",
    "p.union(s)"
   ]
  },
  {
   "cell_type": "code",
   "execution_count": null,
   "metadata": {},
   "outputs": [],
   "source": [
    "p={1,2,3,7,8,4,5}\n",
    "s={9,8,7,2,4,6,0}\n",
    "p.symmetric_difference(s)\n"
   ]
  },
  {
   "cell_type": "code",
   "execution_count": null,
   "metadata": {},
   "outputs": [],
   "source": [
    "p={1,2,3,7,8,4,5}\n",
    "s={9,8,7,2,4,6,0}\n",
    "p.symmetric_difference_update(s)\n",
    "p\n"
   ]
  },
  {
   "cell_type": "code",
   "execution_count": null,
   "metadata": {},
   "outputs": [],
   "source": [
    "p={1,2,3,7,8,4,5}\n",
    "s={9,8,7,1,3,5,2,4,6,0}\n",
    "print(p.issubset(s))\n",
    "print(s.issubset(p))\n"
   ]
  },
  {
   "cell_type": "code",
   "execution_count": null,
   "metadata": {},
   "outputs": [],
   "source": [
    "p={1,2,3,7,8,4,5}\n",
    "s={9,8,7,1,3,5,2,4,6,0}\n",
    "print(p.issuperset(s))\n",
    "print(s.issuperset(p))"
   ]
  },
  {
   "cell_type": "code",
   "execution_count": null,
   "metadata": {},
   "outputs": [],
   "source": [
    "p={1,2,3,7,8,4,5}\n",
    "s={9,8,7,1,3,5,2,4,6,0}\n",
    "print(p.isdisjoint(s))"
   ]
  },
  {
   "cell_type": "code",
   "execution_count": null,
   "metadata": {},
   "outputs": [],
   "source": [
    "n=int(input('enter number: '))\n",
    "for i in range(0,n+1):\n",
    "    for j in range(0,i-1):\n",
    "        print('s',end=' ')\n",
    "    print()"
   ]
  },
  {
   "cell_type": "code",
   "execution_count": null,
   "metadata": {},
   "outputs": [],
   "source": [
    "n=int(input('enter number: '))\n",
    "for i in range(0,n+1):\n",
    "    for j in range(n-1,i-1,-1):\n",
    "        print('s',end=' ')\n",
    "    print()"
   ]
  },
  {
   "cell_type": "code",
   "execution_count": null,
   "metadata": {},
   "outputs": [],
   "source": [
    "n=int(input('enter number: '))\n",
    "for i in range(0,n+1):\n",
    "    for j in range(1,i):\n",
    "        print('*',end=' ')\n",
    "    print()\n",
    "for i in range(0,n+1):\n",
    "    for j in range(n,i,-1):\n",
    "        print('*',end=' ')\n",
    "    print()\n"
   ]
  },
  {
   "cell_type": "code",
   "execution_count": null,
   "metadata": {},
   "outputs": [],
   "source": [
    "# oops\n",
    "class \n",
    "    -collection of variables and methods\n",
    "        -syntax\n",
    "         -class classname:\n",
    "           '''documentation'''\n",
    "         variables\n",
    "         methods\n",
    "       - rules\n",
    "       -should be capital\n",
    "       -doesnot allow spaces\n",
    "       -doesnot allow keywords\n"
   ]
  },
  {
   "cell_type": "code",
   "execution_count": null,
   "metadata": {},
   "outputs": [],
   "source": [
    "class data:\n",
    "    a=10\n",
    "    def dataaa():\n",
    "        print('from data fuction.....')\n",
    "print(data.a)\n",
    "print(data.dataaa())\n"
   ]
  },
  {
   "cell_type": "code",
   "execution_count": null,
   "metadata": {},
   "outputs": [],
   "source": [
    "class data:\n",
    "    a=10\n",
    "    def dataaa():\n",
    "        return('from data fuction.....')\n",
    "print(data.a)\n",
    "print(data.dataaa())\n"
   ]
  },
  {
   "cell_type": "code",
   "execution_count": null,
   "metadata": {},
   "outputs": [],
   "source": [
    "class data:\n",
    "    a=10\n",
    "    def dataaa():\n",
    "        return('from data fuction.....')\n",
    "print(data.a)\n",
    "print(data.dataaa())\n",
    "print(data.__doc__)"
   ]
  },
  {
   "cell_type": "code",
   "execution_count": null,
   "metadata": {},
   "outputs": [],
   "source": [
    "class data:\n",
    "     def add():\n",
    "        a=int(input('a'))\n",
    "        b=int(input('b'))\n",
    "        sum=a+b\n",
    "        return'sum of a and b'\n",
    "print(add.a)\n",
    "print(add.b)\n",
    "print(add.sum)\n",
    "    "
   ]
  },
  {
   "cell_type": "code",
   "execution_count": null,
   "metadata": {},
   "outputs": [],
   "source": [
    "class b:\n",
    "    def factorial(self,a):\n",
    "        fact=1\n",
    "        for i in range(1,a+1):\n",
    "            fact=fact*i\n",
    "        print(\"factorial: \",fact)\n",
    "a=b()\n",
    "a.factorial(5)"
   ]
  },
  {
   "cell_type": "code",
   "execution_count": null,
   "metadata": {},
   "outputs": [],
   "source": [
    "class A:\n",
    "    def prime(self,n):\n",
    "        count=0\n",
    "        for i in range(1,n+1):\n",
    "            if n%i==0:\n",
    "                count+=1\n",
    "        if count==2:\n",
    "                print(n,\"prime number \")\n",
    "        else:\n",
    "                print(n,\"not a prime\")\n",
    "n=A()\n",
    "n.prime(3)\n",
    "                "
   ]
  },
  {
   "cell_type": "code",
   "execution_count": null,
   "metadata": {},
   "outputs": [
    {
     "name": "stdout",
     "output_type": "stream",
     "text": [
      "23213213 not a perfect\n",
      "23213213 not a perfect\n"
     ]
    }
   ],
   "source": [
    "class A:\n",
    "    def perfect(self,n):\n",
    "        count=0\n",
    "        for i in range(1,n):\n",
    "            if n%i==0:\n",
    "                count+=i\n",
    "        if count==n:\n",
    "            print(n,\"perfect number \")\n",
    "        else:\n",
    "            print(n,\"not a perfect\")\n",
    "n=A()\n",
    "n.perfect(23213213)\n",
    "                "
   ]
  },
  {
   "cell_type": "code",
   "execution_count": 8,
   "metadata": {},
   "outputs": [
    {
     "name": "stdout",
     "output_type": "stream",
     "text": [
      "using only self\n",
      "welcome... <__main__.data object at 0x0359B808>\n",
      "using only self\n",
      "welcome... <__main__.data object at 0x0359B808>\n",
      "using only self\n",
      "welcome... <__main__.data object at 0x0359B808>\n"
     ]
    }
   ],
   "source": [
    "class data():\n",
    "    def __init__(self):\n",
    "        print('using only self')\n",
    "    def show(name):\n",
    "        print('welcome...',name)\n",
    "np=data()\n",
    "np.show()"
   ]
  },
  {
   "cell_type": "code",
   "execution_count": null,
   "metadata": {},
   "outputs": [],
   "source": []
  },
  {
   "cell_type": "code",
   "execution_count": null,
   "metadata": {},
   "outputs": [],
   "source": []
  },
  {
   "cell_type": "code",
   "execution_count": null,
   "metadata": {},
   "outputs": [],
   "source": []
  },
  {
   "cell_type": "code",
   "execution_count": null,
   "metadata": {},
   "outputs": [],
   "source": []
  },
  {
   "cell_type": "code",
   "execution_count": null,
   "metadata": {},
   "outputs": [],
   "source": []
  },
  {
   "cell_type": "code",
   "execution_count": null,
   "metadata": {},
   "outputs": [],
   "source": []
  },
  {
   "cell_type": "code",
   "execution_count": null,
   "metadata": {},
   "outputs": [],
   "source": []
  }
 ],
 "metadata": {
  "kernelspec": {
   "display_name": "Python 3",
   "language": "python",
   "name": "python3"
  },
  "language_info": {
   "codemirror_mode": {
    "name": "ipython",
    "version": 3
   },
   "file_extension": ".py",
   "mimetype": "text/x-python",
   "name": "python",
   "nbconvert_exporter": "python",
   "pygments_lexer": "ipython3",
   "version": "3.8.5"
  }
 },
 "nbformat": 4,
 "nbformat_minor": 4
}
